{
 "cells": [
  {
   "cell_type": "code",
   "execution_count": null,
   "metadata": {},
   "outputs": [],
   "source": [
    "from pytube import YouTube, Playlist\n",
    "import pandas as pd\n",
    "from tqdm import tqdm\n",
    "import datetime"
   ]
  },
  {
   "cell_type": "code",
   "execution_count": null,
   "metadata": {},
   "outputs": [],
   "source": [
    "p = Playlist('https://www.youtube.com/playlist?list=PLfRDp3S7rLdtIau6cObj_Q8PIjTWUXrhq')\n",
    "vids = [YouTube(url) for url in p]"
   ]
  },
  {
   "cell_type": "code",
   "execution_count": null,
   "metadata": {},
   "outputs": [],
   "source": [
    "data = {\n",
    "    'channel_id':[],\n",
    "    'language':[],\n",
    "    'Dialect':[],\n",
    "    'title':[],\n",
    "    'Part of Series':[],\n",
    "    'url':[],\n",
    "    'date':[],\n",
    "    'resolution':[],\n",
    "    'Cropped':[],\n",
    "    'Video Length':[],\n",
    "    'fps':[],\n",
    "    'Number of Frames':[],\n",
    "    'SL Subtitles Available':[],\n",
    "    'Audio Transcript Available':[],\n",
    "    'Granularity':[],\n",
    "    'Number of Sentences':[],\n",
    "}\n",
    "\n",
    "for i in tqdm(range(len(vids))):\n",
    "    data['channel_id'].append(1)\n",
    "    data['language'].append('DGS')\n",
    "    data['Dialect'].append('TBD')\n",
    "    data['title'].append(vids[i].title)\n",
    "    data['Part of Series'].append('Parlament Meetings')\n",
    "    data['url'].append(p[i])\n",
    "    data['date'].append(vids[i].publish_date.strftime('%Y-%m-%d'))\n",
    "    data['resolution'].append(vids[i].streams.order_by('resolution').desc().first().resolution)\n",
    "    data['Cropped'].append('No')\n",
    "    data['Video Length'].append(str(datetime.timedelta(seconds=vids[i].length)))\n",
    "    data['fps'].append('TBD')\n",
    "    data['Number of Frames'].append('TBD')\n",
    "    data['SL Subtitles Available'].append('TBD')\n",
    "    data['Audio Transcript Available'].append('TBD')\n",
    "    data['Granularity'].append('Sentences')\n",
    "    data['Number of Sentences'].append('TBD')    "
   ]
  },
  {
   "cell_type": "code",
   "execution_count": null,
   "metadata": {},
   "outputs": [],
   "source": [
    "df = pd.DataFrame(data)\n",
    "df"
   ]
  },
  {
   "cell_type": "code",
   "execution_count": null,
   "metadata": {},
   "outputs": [],
   "source": [
    "df.to_clipboard()"
   ]
  }
 ],
 "metadata": {
  "kernelspec": {
   "display_name": "Python 3.10.8 ('dfki_dataset')",
   "language": "python",
   "name": "python3"
  },
  "language_info": {
   "codemirror_mode": {
    "name": "ipython",
    "version": 3
   },
   "file_extension": ".py",
   "mimetype": "text/x-python",
   "name": "python",
   "nbconvert_exporter": "python",
   "pygments_lexer": "ipython3",
   "version": "3.10.8 | packaged by conda-forge | (main, Nov 24 2022, 14:07:00) [MSC v.1916 64 bit (AMD64)]"
  },
  "orig_nbformat": 4,
  "vscode": {
   "interpreter": {
    "hash": "320580c81d1c371de49a3184851f29dc8039cede7ed7b24cf1fe07e706b3a20b"
   }
  }
 },
 "nbformat": 4,
 "nbformat_minor": 2
}
